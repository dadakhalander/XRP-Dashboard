{
 "cells": [
  {
   "cell_type": "raw",
   "id": "87c11158-aebd-451a-95b7-7fc18ecba323",
   "metadata": {},
   "source": [
    "ARIMA Forecasting Model (AutoRegressive Integrated Moving Average)"
   ]
  },
  {
   "cell_type": "code",
   "execution_count": 2,
   "id": "37c44edc-3fde-45a8-b43d-2102867be620",
   "metadata": {},
   "outputs": [
    {
     "name": "stdout",
     "output_type": "stream",
     "text": [
      "Requirement already satisfied: statsmodels in /Users/admin/anaconda3/lib/python3.12/site-packages (0.14.4)\n",
      "Requirement already satisfied: numpy<3,>=1.22.3 in /Users/admin/anaconda3/lib/python3.12/site-packages (from statsmodels) (1.26.4)\n",
      "Requirement already satisfied: scipy!=1.9.2,>=1.8 in /Users/admin/anaconda3/lib/python3.12/site-packages (from statsmodels) (1.15.2)\n",
      "Requirement already satisfied: pandas!=2.1.0,>=1.4 in /Users/admin/anaconda3/lib/python3.12/site-packages (from statsmodels) (2.2.3)\n",
      "Requirement already satisfied: patsy>=0.5.6 in /Users/admin/anaconda3/lib/python3.12/site-packages (from statsmodels) (1.0.1)\n",
      "Requirement already satisfied: packaging>=21.3 in /Users/admin/anaconda3/lib/python3.12/site-packages (from statsmodels) (24.2)\n",
      "Requirement already satisfied: python-dateutil>=2.8.2 in /Users/admin/anaconda3/lib/python3.12/site-packages (from pandas!=2.1.0,>=1.4->statsmodels) (2.9.0.post0)\n",
      "Requirement already satisfied: pytz>=2020.1 in /Users/admin/anaconda3/lib/python3.12/site-packages (from pandas!=2.1.0,>=1.4->statsmodels) (2025.1)\n",
      "Requirement already satisfied: tzdata>=2022.7 in /Users/admin/anaconda3/lib/python3.12/site-packages (from pandas!=2.1.0,>=1.4->statsmodels) (2025.1)\n",
      "Requirement already satisfied: six>=1.5 in /Users/admin/anaconda3/lib/python3.12/site-packages (from python-dateutil>=2.8.2->pandas!=2.1.0,>=1.4->statsmodels) (1.17.0)\n",
      "Requirement already satisfied: matplotlib in /Users/admin/anaconda3/lib/python3.12/site-packages (3.9.2)\n",
      "Requirement already satisfied: contourpy>=1.0.1 in /Users/admin/anaconda3/lib/python3.12/site-packages (from matplotlib) (1.2.0)\n",
      "Requirement already satisfied: cycler>=0.10 in /Users/admin/anaconda3/lib/python3.12/site-packages (from matplotlib) (0.11.0)\n",
      "Requirement already satisfied: fonttools>=4.22.0 in /Users/admin/anaconda3/lib/python3.12/site-packages (from matplotlib) (4.51.0)\n",
      "Requirement already satisfied: kiwisolver>=1.3.1 in /Users/admin/anaconda3/lib/python3.12/site-packages (from matplotlib) (1.4.4)\n",
      "Requirement already satisfied: numpy>=1.23 in /Users/admin/anaconda3/lib/python3.12/site-packages (from matplotlib) (1.26.4)\n",
      "Requirement already satisfied: packaging>=20.0 in /Users/admin/anaconda3/lib/python3.12/site-packages (from matplotlib) (24.2)\n",
      "Requirement already satisfied: pillow>=8 in /Users/admin/anaconda3/lib/python3.12/site-packages (from matplotlib) (10.4.0)\n",
      "Requirement already satisfied: pyparsing>=2.3.1 in /Users/admin/anaconda3/lib/python3.12/site-packages (from matplotlib) (3.1.2)\n",
      "Requirement already satisfied: python-dateutil>=2.7 in /Users/admin/anaconda3/lib/python3.12/site-packages (from matplotlib) (2.9.0.post0)\n",
      "Requirement already satisfied: six>=1.5 in /Users/admin/anaconda3/lib/python3.12/site-packages (from python-dateutil>=2.7->matplotlib) (1.17.0)\n",
      "Requirement already satisfied: pandas in /Users/admin/anaconda3/lib/python3.12/site-packages (2.2.3)\n",
      "Requirement already satisfied: numpy in /Users/admin/anaconda3/lib/python3.12/site-packages (1.26.4)\n",
      "Requirement already satisfied: matplotlib in /Users/admin/anaconda3/lib/python3.12/site-packages (3.9.2)\n",
      "Requirement already satisfied: statsmodels in /Users/admin/anaconda3/lib/python3.12/site-packages (0.14.4)\n",
      "Requirement already satisfied: pmdarima in /Users/admin/anaconda3/lib/python3.12/site-packages (2.0.4)\n",
      "Requirement already satisfied: python-dateutil>=2.8.2 in /Users/admin/anaconda3/lib/python3.12/site-packages (from pandas) (2.9.0.post0)\n",
      "Requirement already satisfied: pytz>=2020.1 in /Users/admin/anaconda3/lib/python3.12/site-packages (from pandas) (2025.1)\n",
      "Requirement already satisfied: tzdata>=2022.7 in /Users/admin/anaconda3/lib/python3.12/site-packages (from pandas) (2025.1)\n",
      "Requirement already satisfied: contourpy>=1.0.1 in /Users/admin/anaconda3/lib/python3.12/site-packages (from matplotlib) (1.2.0)\n",
      "Requirement already satisfied: cycler>=0.10 in /Users/admin/anaconda3/lib/python3.12/site-packages (from matplotlib) (0.11.0)\n",
      "Requirement already satisfied: fonttools>=4.22.0 in /Users/admin/anaconda3/lib/python3.12/site-packages (from matplotlib) (4.51.0)\n",
      "Requirement already satisfied: kiwisolver>=1.3.1 in /Users/admin/anaconda3/lib/python3.12/site-packages (from matplotlib) (1.4.4)\n",
      "Requirement already satisfied: packaging>=20.0 in /Users/admin/anaconda3/lib/python3.12/site-packages (from matplotlib) (24.2)\n",
      "Requirement already satisfied: pillow>=8 in /Users/admin/anaconda3/lib/python3.12/site-packages (from matplotlib) (10.4.0)\n",
      "Requirement already satisfied: pyparsing>=2.3.1 in /Users/admin/anaconda3/lib/python3.12/site-packages (from matplotlib) (3.1.2)\n",
      "Requirement already satisfied: scipy!=1.9.2,>=1.8 in /Users/admin/anaconda3/lib/python3.12/site-packages (from statsmodels) (1.15.2)\n",
      "Requirement already satisfied: patsy>=0.5.6 in /Users/admin/anaconda3/lib/python3.12/site-packages (from statsmodels) (1.0.1)\n",
      "Requirement already satisfied: joblib>=0.11 in /Users/admin/anaconda3/lib/python3.12/site-packages (from pmdarima) (1.4.2)\n",
      "Requirement already satisfied: Cython!=0.29.18,!=0.29.31,>=0.29 in /Users/admin/anaconda3/lib/python3.12/site-packages (from pmdarima) (3.0.12)\n",
      "Requirement already satisfied: scikit-learn>=0.22 in /Users/admin/anaconda3/lib/python3.12/site-packages (from pmdarima) (1.6.1)\n",
      "Requirement already satisfied: urllib3 in /Users/admin/anaconda3/lib/python3.12/site-packages (from pmdarima) (2.3.0)\n",
      "Requirement already satisfied: setuptools!=50.0.0,>=38.6.0 in /Users/admin/anaconda3/lib/python3.12/site-packages (from pmdarima) (77.0.3)\n",
      "Requirement already satisfied: six>=1.5 in /Users/admin/anaconda3/lib/python3.12/site-packages (from python-dateutil>=2.8.2->pandas) (1.17.0)\n",
      "Requirement already satisfied: threadpoolctl>=3.1.0 in /Users/admin/anaconda3/lib/python3.12/site-packages (from scikit-learn>=0.22->pmdarima) (3.6.0)\n"
     ]
    }
   ],
   "source": [
    "!pip install statsmodels\n",
    "!pip install matplotlib\n",
    "\n",
    "from statsmodels.tsa.arima.model import ARIMA\n",
    "from statsmodels.tsa.stattools import adfuller\n",
    "from pandas.plotting import autocorrelation_plot\n",
    "!pip install pandas numpy matplotlib statsmodels pmdarima"
   ]
  },
  {
   "cell_type": "code",
   "execution_count": 6,
   "id": "d5635d06-c05a-4014-9b23-5a9135493d5b",
   "metadata": {},
   "outputs": [],
   "source": [
    "import pickle"
   ]
  },
  {
   "cell_type": "code",
   "execution_count": 12,
   "id": "b9afcfbd-ae24-4f6e-9bb5-21831b57d9b8",
   "metadata": {},
   "outputs": [],
   "source": [
    "# Load df1 from pickle file\n",
    "with open(\"eda_results.pickle\", \"rb\") as f:\n",
    "    df1_loaded = pickle.load(f)"
   ]
  },
  {
   "cell_type": "code",
   "execution_count": 14,
   "id": "67b3d4bf-a0b1-4d74-9871-73fc2280c31d",
   "metadata": {},
   "outputs": [
    {
     "data": {
      "text/html": [
       "<div>\n",
       "<style scoped>\n",
       "    .dataframe tbody tr th:only-of-type {\n",
       "        vertical-align: middle;\n",
       "    }\n",
       "\n",
       "    .dataframe tbody tr th {\n",
       "        vertical-align: top;\n",
       "    }\n",
       "\n",
       "    .dataframe thead th {\n",
       "        text-align: right;\n",
       "    }\n",
       "</style>\n",
       "<table border=\"1\" class=\"dataframe\">\n",
       "  <thead>\n",
       "    <tr style=\"text-align: right;\">\n",
       "      <th></th>\n",
       "      <th>Date</th>\n",
       "      <th>Price</th>\n",
       "      <th>Open</th>\n",
       "      <th>High</th>\n",
       "      <th>Low</th>\n",
       "      <th>Vol</th>\n",
       "      <th>Change %</th>\n",
       "      <th>AvgPrice_5</th>\n",
       "      <th>AvgPrice_30</th>\n",
       "      <th>AvgPrice_365</th>\n",
       "      <th>...</th>\n",
       "      <th>Return_365</th>\n",
       "      <th>MovingAvg_1</th>\n",
       "      <th>MovingAvg_30</th>\n",
       "      <th>MovingAvg_365</th>\n",
       "      <th>Upper_Band_5</th>\n",
       "      <th>Lower_Band_5</th>\n",
       "      <th>Upper_Band_30</th>\n",
       "      <th>Lower_Band_30</th>\n",
       "      <th>Upper_Band_365</th>\n",
       "      <th>Lower_Band_365</th>\n",
       "    </tr>\n",
       "  </thead>\n",
       "  <tbody>\n",
       "    <tr>\n",
       "      <th>0</th>\n",
       "      <td>2018-05-26</td>\n",
       "      <td>0.6088</td>\n",
       "      <td>0.6056</td>\n",
       "      <td>0.6247</td>\n",
       "      <td>0.5989</td>\n",
       "      <td>99110000.0</td>\n",
       "      <td>0.0052</td>\n",
       "      <td>NaN</td>\n",
       "      <td>NaN</td>\n",
       "      <td>NaN</td>\n",
       "      <td>...</td>\n",
       "      <td>NaN</td>\n",
       "      <td>0.6088</td>\n",
       "      <td>NaN</td>\n",
       "      <td>NaN</td>\n",
       "      <td>NaN</td>\n",
       "      <td>NaN</td>\n",
       "      <td>NaN</td>\n",
       "      <td>NaN</td>\n",
       "      <td>NaN</td>\n",
       "      <td>NaN</td>\n",
       "    </tr>\n",
       "    <tr>\n",
       "      <th>1</th>\n",
       "      <td>2018-05-27</td>\n",
       "      <td>0.6046</td>\n",
       "      <td>0.6088</td>\n",
       "      <td>0.6119</td>\n",
       "      <td>0.5988</td>\n",
       "      <td>95150000.0</td>\n",
       "      <td>-0.0068</td>\n",
       "      <td>NaN</td>\n",
       "      <td>NaN</td>\n",
       "      <td>NaN</td>\n",
       "      <td>...</td>\n",
       "      <td>NaN</td>\n",
       "      <td>0.6046</td>\n",
       "      <td>NaN</td>\n",
       "      <td>NaN</td>\n",
       "      <td>NaN</td>\n",
       "      <td>NaN</td>\n",
       "      <td>NaN</td>\n",
       "      <td>NaN</td>\n",
       "      <td>NaN</td>\n",
       "      <td>NaN</td>\n",
       "    </tr>\n",
       "    <tr>\n",
       "      <th>2</th>\n",
       "      <td>2018-05-28</td>\n",
       "      <td>0.5476</td>\n",
       "      <td>0.6047</td>\n",
       "      <td>0.6075</td>\n",
       "      <td>0.5460</td>\n",
       "      <td>158340000.0</td>\n",
       "      <td>-0.0943</td>\n",
       "      <td>NaN</td>\n",
       "      <td>NaN</td>\n",
       "      <td>NaN</td>\n",
       "      <td>...</td>\n",
       "      <td>NaN</td>\n",
       "      <td>0.5476</td>\n",
       "      <td>NaN</td>\n",
       "      <td>NaN</td>\n",
       "      <td>NaN</td>\n",
       "      <td>NaN</td>\n",
       "      <td>NaN</td>\n",
       "      <td>NaN</td>\n",
       "      <td>NaN</td>\n",
       "      <td>NaN</td>\n",
       "    </tr>\n",
       "    <tr>\n",
       "      <th>3</th>\n",
       "      <td>2018-05-29</td>\n",
       "      <td>0.5994</td>\n",
       "      <td>0.5476</td>\n",
       "      <td>0.6088</td>\n",
       "      <td>0.5444</td>\n",
       "      <td>155950000.0</td>\n",
       "      <td>0.0945</td>\n",
       "      <td>NaN</td>\n",
       "      <td>NaN</td>\n",
       "      <td>NaN</td>\n",
       "      <td>...</td>\n",
       "      <td>NaN</td>\n",
       "      <td>0.5994</td>\n",
       "      <td>NaN</td>\n",
       "      <td>NaN</td>\n",
       "      <td>NaN</td>\n",
       "      <td>NaN</td>\n",
       "      <td>NaN</td>\n",
       "      <td>NaN</td>\n",
       "      <td>NaN</td>\n",
       "      <td>NaN</td>\n",
       "    </tr>\n",
       "    <tr>\n",
       "      <th>4</th>\n",
       "      <td>2018-05-30</td>\n",
       "      <td>0.5938</td>\n",
       "      <td>0.5994</td>\n",
       "      <td>0.6255</td>\n",
       "      <td>0.5786</td>\n",
       "      <td>132830000.0</td>\n",
       "      <td>-0.0093</td>\n",
       "      <td>0.59084</td>\n",
       "      <td>NaN</td>\n",
       "      <td>NaN</td>\n",
       "      <td>...</td>\n",
       "      <td>NaN</td>\n",
       "      <td>0.5938</td>\n",
       "      <td>NaN</td>\n",
       "      <td>NaN</td>\n",
       "      <td>0.640475</td>\n",
       "      <td>0.541205</td>\n",
       "      <td>NaN</td>\n",
       "      <td>NaN</td>\n",
       "      <td>NaN</td>\n",
       "      <td>NaN</td>\n",
       "    </tr>\n",
       "    <tr>\n",
       "      <th>...</th>\n",
       "      <td>...</td>\n",
       "      <td>...</td>\n",
       "      <td>...</td>\n",
       "      <td>...</td>\n",
       "      <td>...</td>\n",
       "      <td>...</td>\n",
       "      <td>...</td>\n",
       "      <td>...</td>\n",
       "      <td>...</td>\n",
       "      <td>...</td>\n",
       "      <td>...</td>\n",
       "      <td>...</td>\n",
       "      <td>...</td>\n",
       "      <td>...</td>\n",
       "      <td>...</td>\n",
       "      <td>...</td>\n",
       "      <td>...</td>\n",
       "      <td>...</td>\n",
       "      <td>...</td>\n",
       "      <td>...</td>\n",
       "      <td>...</td>\n",
       "    </tr>\n",
       "    <tr>\n",
       "      <th>2187</th>\n",
       "      <td>2024-05-22</td>\n",
       "      <td>0.5268</td>\n",
       "      <td>0.5372</td>\n",
       "      <td>0.5382</td>\n",
       "      <td>0.5236</td>\n",
       "      <td>509460000.0</td>\n",
       "      <td>-0.0194</td>\n",
       "      <td>0.52652</td>\n",
       "      <td>0.519970</td>\n",
       "      <td>0.566010</td>\n",
       "      <td>...</td>\n",
       "      <td>0.141001</td>\n",
       "      <td>0.5268</td>\n",
       "      <td>0.519970</td>\n",
       "      <td>0.566010</td>\n",
       "      <td>0.549979</td>\n",
       "      <td>0.503061</td>\n",
       "      <td>0.544505</td>\n",
       "      <td>0.495435</td>\n",
       "      <td>0.708964</td>\n",
       "      <td>0.423055</td>\n",
       "    </tr>\n",
       "    <tr>\n",
       "      <th>2188</th>\n",
       "      <td>2024-05-23</td>\n",
       "      <td>0.5288</td>\n",
       "      <td>0.5269</td>\n",
       "      <td>0.5456</td>\n",
       "      <td>0.5091</td>\n",
       "      <td>948100000.0</td>\n",
       "      <td>0.0038</td>\n",
       "      <td>0.52804</td>\n",
       "      <td>0.519447</td>\n",
       "      <td>0.566184</td>\n",
       "      <td>...</td>\n",
       "      <td>0.136960</td>\n",
       "      <td>0.5288</td>\n",
       "      <td>0.519447</td>\n",
       "      <td>0.566184</td>\n",
       "      <td>0.550749</td>\n",
       "      <td>0.505331</td>\n",
       "      <td>0.542438</td>\n",
       "      <td>0.496455</td>\n",
       "      <td>0.708800</td>\n",
       "      <td>0.423569</td>\n",
       "    </tr>\n",
       "    <tr>\n",
       "      <th>2189</th>\n",
       "      <td>2024-05-24</td>\n",
       "      <td>0.5358</td>\n",
       "      <td>0.5288</td>\n",
       "      <td>0.5372</td>\n",
       "      <td>0.5169</td>\n",
       "      <td>513880000.0</td>\n",
       "      <td>0.0133</td>\n",
       "      <td>0.53326</td>\n",
       "      <td>0.519723</td>\n",
       "      <td>0.566411</td>\n",
       "      <td>...</td>\n",
       "      <td>0.182520</td>\n",
       "      <td>0.5358</td>\n",
       "      <td>0.519723</td>\n",
       "      <td>0.566411</td>\n",
       "      <td>0.543424</td>\n",
       "      <td>0.523096</td>\n",
       "      <td>0.543308</td>\n",
       "      <td>0.496139</td>\n",
       "      <td>0.708568</td>\n",
       "      <td>0.424254</td>\n",
       "    </tr>\n",
       "    <tr>\n",
       "      <th>2190</th>\n",
       "      <td>2024-05-25</td>\n",
       "      <td>0.5416</td>\n",
       "      <td>0.5359</td>\n",
       "      <td>0.5425</td>\n",
       "      <td>0.5334</td>\n",
       "      <td>246380000.0</td>\n",
       "      <td>0.0109</td>\n",
       "      <td>0.53404</td>\n",
       "      <td>0.520263</td>\n",
       "      <td>0.566652</td>\n",
       "      <td>...</td>\n",
       "      <td>0.193740</td>\n",
       "      <td>0.5416</td>\n",
       "      <td>0.520263</td>\n",
       "      <td>0.566652</td>\n",
       "      <td>0.546292</td>\n",
       "      <td>0.521788</td>\n",
       "      <td>0.545095</td>\n",
       "      <td>0.495432</td>\n",
       "      <td>0.708340</td>\n",
       "      <td>0.424963</td>\n",
       "    </tr>\n",
       "    <tr>\n",
       "      <th>2191</th>\n",
       "      <td>2024-05-26</td>\n",
       "      <td>0.5341</td>\n",
       "      <td>0.5416</td>\n",
       "      <td>0.5418</td>\n",
       "      <td>0.5328</td>\n",
       "      <td>178450000.0</td>\n",
       "      <td>-0.0139</td>\n",
       "      <td>0.53342</td>\n",
       "      <td>0.520533</td>\n",
       "      <td>0.566831</td>\n",
       "      <td>...</td>\n",
       "      <td>0.140021</td>\n",
       "      <td>0.5341</td>\n",
       "      <td>0.520533</td>\n",
       "      <td>0.566831</td>\n",
       "      <td>0.545176</td>\n",
       "      <td>0.521664</td>\n",
       "      <td>0.545795</td>\n",
       "      <td>0.495271</td>\n",
       "      <td>0.708186</td>\n",
       "      <td>0.425476</td>\n",
       "    </tr>\n",
       "  </tbody>\n",
       "</table>\n",
       "<p>2192 rows × 44 columns</p>\n",
       "</div>"
      ],
      "text/plain": [
       "           Date   Price    Open    High     Low          Vol  Change %  \\\n",
       "0    2018-05-26  0.6088  0.6056  0.6247  0.5989   99110000.0    0.0052   \n",
       "1    2018-05-27  0.6046  0.6088  0.6119  0.5988   95150000.0   -0.0068   \n",
       "2    2018-05-28  0.5476  0.6047  0.6075  0.5460  158340000.0   -0.0943   \n",
       "3    2018-05-29  0.5994  0.5476  0.6088  0.5444  155950000.0    0.0945   \n",
       "4    2018-05-30  0.5938  0.5994  0.6255  0.5786  132830000.0   -0.0093   \n",
       "...         ...     ...     ...     ...     ...          ...       ...   \n",
       "2187 2024-05-22  0.5268  0.5372  0.5382  0.5236  509460000.0   -0.0194   \n",
       "2188 2024-05-23  0.5288  0.5269  0.5456  0.5091  948100000.0    0.0038   \n",
       "2189 2024-05-24  0.5358  0.5288  0.5372  0.5169  513880000.0    0.0133   \n",
       "2190 2024-05-25  0.5416  0.5359  0.5425  0.5334  246380000.0    0.0109   \n",
       "2191 2024-05-26  0.5341  0.5416  0.5418  0.5328  178450000.0   -0.0139   \n",
       "\n",
       "      AvgPrice_5  AvgPrice_30  AvgPrice_365  ...  Return_365  MovingAvg_1  \\\n",
       "0            NaN          NaN           NaN  ...         NaN       0.6088   \n",
       "1            NaN          NaN           NaN  ...         NaN       0.6046   \n",
       "2            NaN          NaN           NaN  ...         NaN       0.5476   \n",
       "3            NaN          NaN           NaN  ...         NaN       0.5994   \n",
       "4        0.59084          NaN           NaN  ...         NaN       0.5938   \n",
       "...          ...          ...           ...  ...         ...          ...   \n",
       "2187     0.52652     0.519970      0.566010  ...    0.141001       0.5268   \n",
       "2188     0.52804     0.519447      0.566184  ...    0.136960       0.5288   \n",
       "2189     0.53326     0.519723      0.566411  ...    0.182520       0.5358   \n",
       "2190     0.53404     0.520263      0.566652  ...    0.193740       0.5416   \n",
       "2191     0.53342     0.520533      0.566831  ...    0.140021       0.5341   \n",
       "\n",
       "      MovingAvg_30  MovingAvg_365  Upper_Band_5  Lower_Band_5  Upper_Band_30  \\\n",
       "0              NaN            NaN           NaN           NaN            NaN   \n",
       "1              NaN            NaN           NaN           NaN            NaN   \n",
       "2              NaN            NaN           NaN           NaN            NaN   \n",
       "3              NaN            NaN           NaN           NaN            NaN   \n",
       "4              NaN            NaN      0.640475      0.541205            NaN   \n",
       "...            ...            ...           ...           ...            ...   \n",
       "2187      0.519970       0.566010      0.549979      0.503061       0.544505   \n",
       "2188      0.519447       0.566184      0.550749      0.505331       0.542438   \n",
       "2189      0.519723       0.566411      0.543424      0.523096       0.543308   \n",
       "2190      0.520263       0.566652      0.546292      0.521788       0.545095   \n",
       "2191      0.520533       0.566831      0.545176      0.521664       0.545795   \n",
       "\n",
       "      Lower_Band_30  Upper_Band_365  Lower_Band_365  \n",
       "0               NaN             NaN             NaN  \n",
       "1               NaN             NaN             NaN  \n",
       "2               NaN             NaN             NaN  \n",
       "3               NaN             NaN             NaN  \n",
       "4               NaN             NaN             NaN  \n",
       "...             ...             ...             ...  \n",
       "2187       0.495435        0.708964        0.423055  \n",
       "2188       0.496455        0.708800        0.423569  \n",
       "2189       0.496139        0.708568        0.424254  \n",
       "2190       0.495432        0.708340        0.424963  \n",
       "2191       0.495271        0.708186        0.425476  \n",
       "\n",
       "[2192 rows x 44 columns]"
      ]
     },
     "execution_count": 14,
     "metadata": {},
     "output_type": "execute_result"
    }
   ],
   "source": [
    "df1_loaded"
   ]
  },
  {
   "cell_type": "code",
   "execution_count": 16,
   "id": "ec64483a-5698-4a6e-b7aa-b2814f89d58a",
   "metadata": {},
   "outputs": [
    {
     "name": "stdout",
     "output_type": "stream",
     "text": [
      "ADF Test for AvgPrice_5:\n",
      "ADF Statistic: -3.199460647522754\n",
      "p-value: 0.020015920292089102\n",
      " AvgPrice_5 is STATIONARY.\n",
      "\n",
      "ADF Test for AvgPrice_30:\n",
      "ADF Statistic: -1.8035256036710139\n",
      "p-value: 0.37871273945259376\n",
      " AvgPrice_30 is NON-STATIONARY. Differencing required.\n",
      "\n",
      "ADF Test for AvgPrice_365:\n",
      "ADF Statistic: -2.122294445769693\n",
      "p-value: 0.2356448956524892\n",
      " AvgPrice_365 is NON-STATIONARY. Differencing required.\n",
      "\n"
     ]
    }
   ],
   "source": [
    "from statsmodels.tsa.stattools import adfuller\n",
    "\n",
    "# Function to check stationarity\n",
    "def check_stationarity(series, column_name):\n",
    "    result = adfuller(series.dropna())\n",
    "    print(f\"ADF Test for {column_name}:\")\n",
    "    print(f\"ADF Statistic: {result[0]}\")\n",
    "    print(f\"p-value: {result[1]}\")\n",
    "    if result[1] > 0.05:\n",
    "        print(f\" {column_name} is NON-STATIONARY. Differencing required.\\n\")\n",
    "    else:\n",
    "        print(f\" {column_name} is STATIONARY.\\n\")\n",
    "\n",
    "# Apply stationarity test to key columns\n",
    "columns_to_test = ['AvgPrice_5', 'AvgPrice_30', 'AvgPrice_365']\n",
    "for col in columns_to_test:\n",
    "    check_stationarity(df1_loaded[col], col)"
   ]
  },
  {
   "cell_type": "code",
   "execution_count": 20,
   "id": "11965b5a-7d18-4c1e-a7dd-107ee3296820",
   "metadata": {},
   "outputs": [
    {
     "data": {
      "image/png": "[encoded data removed]",
      "text/plain": [
       "<Figure size 1400x500 with 2 Axes>"
      ]
     },
     "metadata": {},
     "output_type": "display_data"
    },
    {
     "data": {
      "image/png": "[encoded data removed]",
      "text/plain": [
       "<Figure size 1400x500 with 2 Axes>"
      ]
     },
     "metadata": {},
     "output_type": "display_data"
    },
    {
     "data": {
      "image/png": "[encoded data removed]",
      "text/plain": [
       "<Figure size 1400x500 with 2 Axes>"
      ]
     },
     "metadata": {},
     "output_type": "display_data"
    }
   ],
   "source": [
    "import statsmodels.api as sm\n",
    "import matplotlib.pyplot as plt\n",
    "\n",
    "\n",
    "# Plot ACF & PACF for each column\n",
    "def plot_acf_pacf(series, column_name):\n",
    "    fig, axes = plt.subplots(1, 2, figsize=(14, 5))\n",
    "\n",
    "    # ACF Plot (for q value)\n",
    "    sm.graphics.tsa.plot_acf(series.dropna(), lags=30, ax=axes[0])\n",
    "    axes[0].set_title(f\"Autocorrelation Function (ACF) - {column_name}\")\n",
    "\n",
    "    # PACF Plot (for p value)\n",
    "    sm.graphics.tsa.plot_pacf(series.dropna(), lags=30, ax=axes[1])\n",
    "    axes[1].set_title(f\"Partial Autocorrelation Function (PACF) - {column_name}\")\n",
    "\n",
    "    plt.show()\n",
    "\n",
    "# Apply to key columns\n",
    "for col in columns_to_test:\n",
    "    plot_acf_pacf(df1_loaded[col].diff().dropna(), col)\n"
   ]
  },
  {
   "cell_type": "code",
   "execution_count": 24,
   "id": "45d30754-e9b2-49b3-9f6d-466fc3645767",
   "metadata": {},
   "outputs": [],
   "source": [
    "\n",
    "from pmdarima.arima import auto_arima"
   ]
  },
  {
   "cell_type": "code",
   "execution_count": 26,
   "id": "b88bb600-1480-4c18-90e7-77d12f0a6ea3",
   "metadata": {},
   "outputs": [
    {
     "name": "stdout",
     "output_type": "stream",
     "text": [
      "\n",
      "Finding best ARIMA order for AvgPrice_5...\n",
      "Performing stepwise search to minimize aic\n"
     ]
    },
    {
     "name": "stderr",
     "output_type": "stream",
     "text": [
      "/Users/admin/anaconda3/lib/python3.12/site-packages/sklearn/utils/deprecation.py:151: FutureWarning: 'force_all_finite' was renamed to 'ensure_all_finite' in 1.6 and will be removed in 1.8.\n",
      "  warnings.warn(\n",
      "/Users/admin/anaconda3/lib/python3.12/site-packages/sklearn/utils/deprecation.py:151: FutureWarning: 'force_all_finite' was renamed to 'ensure_all_finite' in 1.6 and will be removed in 1.8.\n",
      "  warnings.warn(\n",
      "/Users/admin/anaconda3/lib/python3.12/site-packages/sklearn/utils/deprecation.py:151: FutureWarning: 'force_all_finite' was renamed to 'ensure_all_finite' in 1.6 and will be removed in 1.8.\n",
      "  warnings.warn(\n",
      "/Users/admin/anaconda3/lib/python3.12/site-packages/sklearn/utils/deprecation.py:151: FutureWarning: 'force_all_finite' was renamed to 'ensure_all_finite' in 1.6 and will be removed in 1.8.\n",
      "  warnings.warn(\n",
      "/Users/admin/anaconda3/lib/python3.12/site-packages/sklearn/utils/deprecation.py:151: FutureWarning: 'force_all_finite' was renamed to 'ensure_all_finite' in 1.6 and will be removed in 1.8.\n",
      "  warnings.warn(\n",
      "/Users/admin/anaconda3/lib/python3.12/site-packages/sklearn/utils/deprecation.py:151: FutureWarning: 'force_all_finite' was renamed to 'ensure_all_finite' in 1.6 and will be removed in 1.8.\n",
      "  warnings.warn(\n",
      "/Users/admin/anaconda3/lib/python3.12/site-packages/sklearn/utils/deprecation.py:151: FutureWarning: 'force_all_finite' was renamed to 'ensure_all_finite' in 1.6 and will be removed in 1.8.\n",
      "  warnings.warn(\n",
      "/Users/admin/anaconda3/lib/python3.12/site-packages/sklearn/utils/deprecation.py:151: FutureWarning: 'force_all_finite' was renamed to 'ensure_all_finite' in 1.6 and will be removed in 1.8.\n",
      "  warnings.warn(\n",
      "/Users/admin/anaconda3/lib/python3.12/site-packages/sklearn/utils/deprecation.py:151: FutureWarning: 'force_all_finite' was renamed to 'ensure_all_finite' in 1.6 and will be removed in 1.8.\n",
      "  warnings.warn(\n"
     ]
    },
    {
     "name": "stdout",
     "output_type": "stream",
     "text": [
      " ARIMA(2,1,2)(0,0,0)[0] intercept   : AIC=-14035.899, Time=1.08 sec\n",
      " ARIMA(0,1,0)(0,0,0)[0] intercept   : AIC=-12018.823, Time=0.10 sec\n"
     ]
    },
    {
     "name": "stderr",
     "output_type": "stream",
     "text": [
      "/Users/admin/anaconda3/lib/python3.12/site-packages/sklearn/utils/deprecation.py:151: FutureWarning: 'force_all_finite' was renamed to 'ensure_all_finite' in 1.6 and will be removed in 1.8.\n",
      "  warnings.warn(\n",
      "/Users/admin/anaconda3/lib/python3.12/site-packages/sklearn/utils/deprecation.py:151: FutureWarning: 'force_all_finite' was renamed to 'ensure_all_finite' in 1.6 and will be removed in 1.8.\n",
      "  warnings.warn(\n"
     ]
    },
    {
     "name": "stdout",
     "output_type": "stream",
     "text": [
      " ARIMA(1,1,0)(0,0,0)[0] intercept   : AIC=-14032.145, Time=0.14 sec\n"
     ]
    },
    {
     "name": "stderr",
     "output_type": "stream",
     "text": [
      "/Users/admin/anaconda3/lib/python3.12/site-packages/sklearn/utils/deprecation.py:151: FutureWarning: 'force_all_finite' was renamed to 'ensure_all_finite' in 1.6 and will be removed in 1.8.\n",
      "  warnings.warn(\n"
     ]
    },
    {
     "name": "stdout",
     "output_type": "stream",
     "text": [
      " ARIMA(0,1,1)(0,0,0)[0] intercept   : AIC=-13200.300, Time=0.39 sec\n",
      " ARIMA(0,1,0)(0,0,0)[0]             : AIC=-12020.817, Time=0.08 sec\n"
     ]
    },
    {
     "name": "stderr",
     "output_type": "stream",
     "text": [
      "/Users/admin/anaconda3/lib/python3.12/site-packages/sklearn/utils/deprecation.py:151: FutureWarning: 'force_all_finite' was renamed to 'ensure_all_finite' in 1.6 and will be removed in 1.8.\n",
      "  warnings.warn(\n",
      "/Users/admin/anaconda3/lib/python3.12/site-packages/sklearn/utils/deprecation.py:151: FutureWarning: 'force_all_finite' was renamed to 'ensure_all_finite' in 1.6 and will be removed in 1.8.\n",
      "  warnings.warn(\n"
     ]
    },
    {
     "name": "stdout",
     "output_type": "stream",
     "text": [
      " ARIMA(1,1,2)(0,0,0)[0] intercept   : AIC=-14029.093, Time=0.13 sec\n"
     ]
    },
    {
     "name": "stderr",
     "output_type": "stream",
     "text": [
      "/Users/admin/anaconda3/lib/python3.12/site-packages/sklearn/utils/deprecation.py:151: FutureWarning: 'force_all_finite' was renamed to 'ensure_all_finite' in 1.6 and will be removed in 1.8.\n",
      "  warnings.warn(\n"
     ]
    },
    {
     "name": "stdout",
     "output_type": "stream",
     "text": [
      " ARIMA(2,1,1)(0,0,0)[0] intercept   : AIC=-14028.907, Time=0.45 sec\n"
     ]
    },
    {
     "name": "stderr",
     "output_type": "stream",
     "text": [
      "/Users/admin/anaconda3/lib/python3.12/site-packages/sklearn/utils/deprecation.py:151: FutureWarning: 'force_all_finite' was renamed to 'ensure_all_finite' in 1.6 and will be removed in 1.8.\n",
      "  warnings.warn(\n"
     ]
    },
    {
     "name": "stdout",
     "output_type": "stream",
     "text": [
      " ARIMA(3,1,2)(0,0,0)[0] intercept   : AIC=-14036.117, Time=1.29 sec\n"
     ]
    },
    {
     "name": "stderr",
     "output_type": "stream",
     "text": [
      "/Users/admin/anaconda3/lib/python3.12/site-packages/sklearn/utils/deprecation.py:151: FutureWarning: 'force_all_finite' was renamed to 'ensure_all_finite' in 1.6 and will be removed in 1.8.\n",
      "  warnings.warn(\n"
     ]
    },
    {
     "name": "stdout",
     "output_type": "stream",
     "text": [
      " ARIMA(3,1,1)(0,0,0)[0] intercept   : AIC=-14038.977, Time=0.64 sec\n",
      " ARIMA(3,1,0)(0,0,0)[0] intercept   : AIC=-14049.915, Time=0.18 sec\n"
     ]
    },
    {
     "name": "stderr",
     "output_type": "stream",
     "text": [
      "/Users/admin/anaconda3/lib/python3.12/site-packages/sklearn/utils/deprecation.py:151: FutureWarning: 'force_all_finite' was renamed to 'ensure_all_finite' in 1.6 and will be removed in 1.8.\n",
      "  warnings.warn(\n",
      "/Users/admin/anaconda3/lib/python3.12/site-packages/sklearn/utils/deprecation.py:151: FutureWarning: 'force_all_finite' was renamed to 'ensure_all_finite' in 1.6 and will be removed in 1.8.\n",
      "  warnings.warn(\n"
     ]
    },
    {
     "name": "stdout",
     "output_type": "stream",
     "text": [
      " ARIMA(2,1,0)(0,0,0)[0] intercept   : AIC=-14031.689, Time=0.24 sec\n"
     ]
    },
    {
     "name": "stderr",
     "output_type": "stream",
     "text": [
      "/Users/admin/anaconda3/lib/python3.12/site-packages/sklearn/utils/deprecation.py:151: FutureWarning: 'force_all_finite' was renamed to 'ensure_all_finite' in 1.6 and will be removed in 1.8.\n",
      "  warnings.warn(\n"
     ]
    },
    {
     "name": "stdout",
     "output_type": "stream",
     "text": [
      " ARIMA(4,1,0)(0,0,0)[0] intercept   : AIC=-14108.738, Time=0.25 sec\n"
     ]
    },
    {
     "name": "stderr",
     "output_type": "stream",
     "text": [
      "/Users/admin/anaconda3/lib/python3.12/site-packages/sklearn/utils/deprecation.py:151: FutureWarning: 'force_all_finite' was renamed to 'ensure_all_finite' in 1.6 and will be removed in 1.8.\n",
      "  warnings.warn(\n"
     ]
    },
    {
     "name": "stdout",
     "output_type": "stream",
     "text": [
      " ARIMA(5,1,0)(0,0,0)[0] intercept   : AIC=-14212.021, Time=0.55 sec\n"
     ]
    },
    {
     "name": "stderr",
     "output_type": "stream",
     "text": [
      "/Users/admin/anaconda3/lib/python3.12/site-packages/sklearn/utils/deprecation.py:151: FutureWarning: 'force_all_finite' was renamed to 'ensure_all_finite' in 1.6 and will be removed in 1.8.\n",
      "  warnings.warn(\n"
     ]
    },
    {
     "name": "stdout",
     "output_type": "stream",
     "text": [
      " ARIMA(5,1,1)(0,0,0)[0] intercept   : AIC=-14361.161, Time=1.62 sec\n"
     ]
    },
    {
     "name": "stderr",
     "output_type": "stream",
     "text": [
      "/Users/admin/anaconda3/lib/python3.12/site-packages/sklearn/utils/deprecation.py:151: FutureWarning: 'force_all_finite' was renamed to 'ensure_all_finite' in 1.6 and will be removed in 1.8.\n",
      "  warnings.warn(\n"
     ]
    },
    {
     "name": "stdout",
     "output_type": "stream",
     "text": [
      " ARIMA(4,1,1)(0,0,0)[0] intercept   : AIC=-14117.419, Time=1.48 sec\n"
     ]
    },
    {
     "name": "stderr",
     "output_type": "stream",
     "text": [
      "/Users/admin/anaconda3/lib/python3.12/site-packages/sklearn/utils/deprecation.py:151: FutureWarning: 'force_all_finite' was renamed to 'ensure_all_finite' in 1.6 and will be removed in 1.8.\n",
      "  warnings.warn(\n"
     ]
    },
    {
     "name": "stdout",
     "output_type": "stream",
     "text": [
      " ARIMA(5,1,2)(0,0,0)[0] intercept   : AIC=-14497.735, Time=2.35 sec\n"
     ]
    },
    {
     "name": "stderr",
     "output_type": "stream",
     "text": [
      "/Users/admin/anaconda3/lib/python3.12/site-packages/sklearn/utils/deprecation.py:151: FutureWarning: 'force_all_finite' was renamed to 'ensure_all_finite' in 1.6 and will be removed in 1.8.\n",
      "  warnings.warn(\n"
     ]
    },
    {
     "name": "stdout",
     "output_type": "stream",
     "text": [
      " ARIMA(4,1,2)(0,0,0)[0] intercept   : AIC=-14025.875, Time=1.85 sec\n"
     ]
    },
    {
     "name": "stderr",
     "output_type": "stream",
     "text": [
      "/Users/admin/anaconda3/lib/python3.12/site-packages/sklearn/utils/deprecation.py:151: FutureWarning: 'force_all_finite' was renamed to 'ensure_all_finite' in 1.6 and will be removed in 1.8.\n",
      "  warnings.warn(\n"
     ]
    },
    {
     "name": "stdout",
     "output_type": "stream",
     "text": [
      " ARIMA(5,1,3)(0,0,0)[0] intercept   : AIC=-14566.252, Time=1.99 sec\n"
     ]
    },
    {
     "name": "stderr",
     "output_type": "stream",
     "text": [
      "/Users/admin/anaconda3/lib/python3.12/site-packages/sklearn/utils/deprecation.py:151: FutureWarning: 'force_all_finite' was renamed to 'ensure_all_finite' in 1.6 and will be removed in 1.8.\n",
      "  warnings.warn(\n"
     ]
    },
    {
     "name": "stdout",
     "output_type": "stream",
     "text": [
      " ARIMA(4,1,3)(0,0,0)[0] intercept   : AIC=-14436.524, Time=1.82 sec\n"
     ]
    },
    {
     "name": "stderr",
     "output_type": "stream",
     "text": [
      "/Users/admin/anaconda3/lib/python3.12/site-packages/sklearn/utils/deprecation.py:151: FutureWarning: 'force_all_finite' was renamed to 'ensure_all_finite' in 1.6 and will be removed in 1.8.\n",
      "  warnings.warn(\n"
     ]
    },
    {
     "name": "stdout",
     "output_type": "stream",
     "text": [
      " ARIMA(5,1,4)(0,0,0)[0] intercept   : AIC=-15268.237, Time=2.41 sec\n"
     ]
    },
    {
     "name": "stderr",
     "output_type": "stream",
     "text": [
      "/Users/admin/anaconda3/lib/python3.12/site-packages/sklearn/utils/deprecation.py:151: FutureWarning: 'force_all_finite' was renamed to 'ensure_all_finite' in 1.6 and will be removed in 1.8.\n",
      "  warnings.warn(\n"
     ]
    },
    {
     "name": "stdout",
     "output_type": "stream",
     "text": [
      " ARIMA(4,1,4)(0,0,0)[0] intercept   : AIC=-15219.953, Time=1.93 sec\n"
     ]
    },
    {
     "name": "stderr",
     "output_type": "stream",
     "text": [
      "/Users/admin/anaconda3/lib/python3.12/site-packages/sklearn/utils/deprecation.py:151: FutureWarning: 'force_all_finite' was renamed to 'ensure_all_finite' in 1.6 and will be removed in 1.8.\n",
      "  warnings.warn(\n"
     ]
    },
    {
     "name": "stdout",
     "output_type": "stream",
     "text": [
      " ARIMA(5,1,5)(0,0,0)[0] intercept   : AIC=-15248.883, Time=2.76 sec\n"
     ]
    },
    {
     "name": "stderr",
     "output_type": "stream",
     "text": [
      "/Users/admin/anaconda3/lib/python3.12/site-packages/sklearn/utils/deprecation.py:151: FutureWarning: 'force_all_finite' was renamed to 'ensure_all_finite' in 1.6 and will be removed in 1.8.\n",
      "  warnings.warn(\n"
     ]
    },
    {
     "name": "stdout",
     "output_type": "stream",
     "text": [
      " ARIMA(4,1,5)(0,0,0)[0] intercept   : AIC=inf, Time=2.50 sec\n"
     ]
    },
    {
     "name": "stderr",
     "output_type": "stream",
     "text": [
      "/Users/admin/anaconda3/lib/python3.12/site-packages/sklearn/utils/deprecation.py:151: FutureWarning: 'force_all_finite' was renamed to 'ensure_all_finite' in 1.6 and will be removed in 1.8.\n",
      "  warnings.warn(\n"
     ]
    },
    {
     "name": "stdout",
     "output_type": "stream",
     "text": [
      " ARIMA(5,1,4)(0,0,0)[0]             : AIC=-15265.275, Time=1.38 sec\n",
      "\n",
      "Best model:  ARIMA(5,1,4)(0,0,0)[0] intercept\n",
      "Total fit time: 27.606 seconds\n",
      "Best ARIMA Order for AvgPrice_5: (5, 1, 4)\n",
      "\n",
      "\n",
      "Finding best ARIMA order for AvgPrice_30...\n",
      "Performing stepwise search to minimize aic\n"
     ]
    },
    {
     "name": "stderr",
     "output_type": "stream",
     "text": [
      "/Users/admin/anaconda3/lib/python3.12/site-packages/sklearn/utils/deprecation.py:151: FutureWarning: 'force_all_finite' was renamed to 'ensure_all_finite' in 1.6 and will be removed in 1.8.\n",
      "  warnings.warn(\n",
      "/Users/admin/anaconda3/lib/python3.12/site-packages/sklearn/utils/deprecation.py:151: FutureWarning: 'force_all_finite' was renamed to 'ensure_all_finite' in 1.6 and will be removed in 1.8.\n",
      "  warnings.warn(\n",
      "/Users/admin/anaconda3/lib/python3.12/site-packages/sklearn/utils/deprecation.py:151: FutureWarning: 'force_all_finite' was renamed to 'ensure_all_finite' in 1.6 and will be removed in 1.8.\n",
      "  warnings.warn(\n",
      "/Users/admin/anaconda3/lib/python3.12/site-packages/sklearn/utils/deprecation.py:151: FutureWarning: 'force_all_finite' was renamed to 'ensure_all_finite' in 1.6 and will be removed in 1.8.\n",
      "  warnings.warn(\n",
      "/Users/admin/anaconda3/lib/python3.12/site-packages/sklearn/utils/deprecation.py:151: FutureWarning: 'force_all_finite' was renamed to 'ensure_all_finite' in 1.6 and will be removed in 1.8.\n",
      "  warnings.warn(\n",
      "/Users/admin/anaconda3/lib/python3.12/site-packages/sklearn/utils/deprecation.py:151: FutureWarning: 'force_all_finite' was renamed to 'ensure_all_finite' in 1.6 and will be removed in 1.8.\n",
      "  warnings.warn(\n",
      "/Users/admin/anaconda3/lib/python3.12/site-packages/sklearn/utils/deprecation.py:151: FutureWarning: 'force_all_finite' was renamed to 'ensure_all_finite' in 1.6 and will be removed in 1.8.\n",
      "  warnings.warn(\n",
      "/Users/admin/anaconda3/lib/python3.12/site-packages/sklearn/utils/deprecation.py:151: FutureWarning: 'force_all_finite' was renamed to 'ensure_all_finite' in 1.6 and will be removed in 1.8.\n",
      "  warnings.warn(\n",
      "/Users/admin/anaconda3/lib/python3.12/site-packages/sklearn/utils/deprecation.py:151: FutureWarning: 'force_all_finite' was renamed to 'ensure_all_finite' in 1.6 and will be removed in 1.8.\n",
      "  warnings.warn(\n"
     ]
    },
    {
     "name": "stdout",
     "output_type": "stream",
     "text": [
      " ARIMA(2,1,2)(0,0,0)[0] intercept   : AIC=-21560.873, Time=0.35 sec\n"
     ]
    },
    {
     "name": "stderr",
     "output_type": "stream",
     "text": [
      "/Users/admin/anaconda3/lib/python3.12/site-packages/sklearn/utils/deprecation.py:151: FutureWarning: 'force_all_finite' was renamed to 'ensure_all_finite' in 1.6 and will be removed in 1.8.\n",
      "  warnings.warn(\n"
     ]
    },
    {
     "name": "stdout",
     "output_type": "stream",
     "text": [
      " ARIMA(0,1,0)(0,0,0)[0] intercept   : AIC=-15907.663, Time=0.29 sec\n"
     ]
    },
    {
     "name": "stderr",
     "output_type": "stream",
     "text": [
      "/Users/admin/anaconda3/lib/python3.12/site-packages/sklearn/utils/deprecation.py:151: FutureWarning: 'force_all_finite' was renamed to 'ensure_all_finite' in 1.6 and will be removed in 1.8.\n",
      "  warnings.warn(\n"
     ]
    },
    {
     "name": "stdout",
     "output_type": "stream",
     "text": [
      " ARIMA(1,1,0)(0,0,0)[0] intercept   : AIC=-21551.240, Time=0.22 sec\n"
     ]
    },
    {
     "name": "stderr",
     "output_type": "stream",
     "text": [
      "/Users/admin/anaconda3/lib/python3.12/site-packages/sklearn/utils/deprecation.py:151: FutureWarning: 'force_all_finite' was renamed to 'ensure_all_finite' in 1.6 and will be removed in 1.8.\n",
      "  warnings.warn(\n"
     ]
    },
    {
     "name": "stdout",
     "output_type": "stream",
     "text": [
      " ARIMA(0,1,1)(0,0,0)[0] intercept   : AIC=-17912.064, Time=0.26 sec\n",
      " ARIMA(0,1,0)(0,0,0)[0]             : AIC=-15909.611, Time=0.07 sec\n"
     ]
    },
    {
     "name": "stderr",
     "output_type": "stream",
     "text": [
      "/Users/admin/anaconda3/lib/python3.12/site-packages/sklearn/utils/deprecation.py:151: FutureWarning: 'force_all_finite' was renamed to 'ensure_all_finite' in 1.6 and will be removed in 1.8.\n",
      "  warnings.warn(\n",
      "/Users/admin/anaconda3/lib/python3.12/site-packages/sklearn/utils/deprecation.py:151: FutureWarning: 'force_all_finite' was renamed to 'ensure_all_finite' in 1.6 and will be removed in 1.8.\n",
      "  warnings.warn(\n"
     ]
    },
    {
     "name": "stdout",
     "output_type": "stream",
     "text": [
      " ARIMA(1,1,2)(0,0,0)[0] intercept   : AIC=-21561.450, Time=0.32 sec\n"
     ]
    },
    {
     "name": "stderr",
     "output_type": "stream",
     "text": [
      "/Users/admin/anaconda3/lib/python3.12/site-packages/sklearn/utils/deprecation.py:151: FutureWarning: 'force_all_finite' was renamed to 'ensure_all_finite' in 1.6 and will be removed in 1.8.\n",
      "  warnings.warn(\n"
     ]
    },
    {
     "name": "stdout",
     "output_type": "stream",
     "text": [
      " ARIMA(0,1,2)(0,0,0)[0] intercept   : AIC=-18373.536, Time=0.39 sec\n",
      " ARIMA(1,1,1)(0,0,0)[0] intercept   : AIC=-21555.475, Time=0.15 sec\n"
     ]
    },
    {
     "name": "stderr",
     "output_type": "stream",
     "text": [
      "/Users/admin/anaconda3/lib/python3.12/site-packages/sklearn/utils/deprecation.py:151: FutureWarning: 'force_all_finite' was renamed to 'ensure_all_finite' in 1.6 and will be removed in 1.8.\n",
      "  warnings.warn(\n",
      "/Users/admin/anaconda3/lib/python3.12/site-packages/sklearn/utils/deprecation.py:151: FutureWarning: 'force_all_finite' was renamed to 'ensure_all_finite' in 1.6 and will be removed in 1.8.\n",
      "  warnings.warn(\n"
     ]
    },
    {
     "name": "stdout",
     "output_type": "stream",
     "text": [
      " ARIMA(1,1,3)(0,0,0)[0] intercept   : AIC=-21559.715, Time=0.44 sec\n"
     ]
    },
    {
     "name": "stderr",
     "output_type": "stream",
     "text": [
      "/Users/admin/anaconda3/lib/python3.12/site-packages/sklearn/utils/deprecation.py:151: FutureWarning: 'force_all_finite' was renamed to 'ensure_all_finite' in 1.6 and will be removed in 1.8.\n",
      "  warnings.warn(\n"
     ]
    },
    {
     "name": "stdout",
     "output_type": "stream",
     "text": [
      " ARIMA(0,1,3)(0,0,0)[0] intercept   : AIC=-19453.095, Time=1.17 sec\n"
     ]
    },
    {
     "name": "stderr",
     "output_type": "stream",
     "text": [
      "/Users/admin/anaconda3/lib/python3.12/site-packages/sklearn/utils/deprecation.py:151: FutureWarning: 'force_all_finite' was renamed to 'ensure_all_finite' in 1.6 and will be removed in 1.8.\n",
      "  warnings.warn(\n"
     ]
    },
    {
     "name": "stdout",
     "output_type": "stream",
     "text": [
      " ARIMA(2,1,1)(0,0,0)[0] intercept   : AIC=-21555.533, Time=0.94 sec\n"
     ]
    },
    {
     "name": "stderr",
     "output_type": "stream",
     "text": [
      "/Users/admin/anaconda3/lib/python3.12/site-packages/sklearn/utils/deprecation.py:151: FutureWarning: 'force_all_finite' was renamed to 'ensure_all_finite' in 1.6 and will be removed in 1.8.\n",
      "  warnings.warn(\n"
     ]
    },
    {
     "name": "stdout",
     "output_type": "stream",
     "text": [
      " ARIMA(2,1,3)(0,0,0)[0] intercept   : AIC=-21556.216, Time=0.31 sec\n",
      " ARIMA(1,1,2)(0,0,0)[0]             : AIC=-21563.451, Time=0.20 sec\n"
     ]
    },
    {
     "name": "stderr",
     "output_type": "stream",
     "text": [
      "/Users/admin/anaconda3/lib/python3.12/site-packages/sklearn/utils/deprecation.py:151: FutureWarning: 'force_all_finite' was renamed to 'ensure_all_finite' in 1.6 and will be removed in 1.8.\n",
      "  warnings.warn(\n",
      "/Users/admin/anaconda3/lib/python3.12/site-packages/sklearn/utils/deprecation.py:151: FutureWarning: 'force_all_finite' was renamed to 'ensure_all_finite' in 1.6 and will be removed in 1.8.\n",
      "  warnings.warn(\n"
     ]
    },
    {
     "name": "stdout",
     "output_type": "stream",
     "text": [
      " ARIMA(0,1,2)(0,0,0)[0]             : AIC=-19406.592, Time=0.56 sec\n",
      " ARIMA(1,1,1)(0,0,0)[0]             : AIC=-21557.476, Time=0.10 sec\n"
     ]
    },
    {
     "name": "stderr",
     "output_type": "stream",
     "text": [
      "/Users/admin/anaconda3/lib/python3.12/site-packages/sklearn/utils/deprecation.py:151: FutureWarning: 'force_all_finite' was renamed to 'ensure_all_finite' in 1.6 and will be removed in 1.8.\n",
      "  warnings.warn(\n",
      "/Users/admin/anaconda3/lib/python3.12/site-packages/sklearn/utils/deprecation.py:151: FutureWarning: 'force_all_finite' was renamed to 'ensure_all_finite' in 1.6 and will be removed in 1.8.\n",
      "  warnings.warn(\n"
     ]
    },
    {
     "name": "stdout",
     "output_type": "stream",
     "text": [
      " ARIMA(2,1,2)(0,0,0)[0]             : AIC=-21562.869, Time=0.17 sec\n"
     ]
    },
    {
     "name": "stderr",
     "output_type": "stream",
     "text": [
      "/Users/admin/anaconda3/lib/python3.12/site-packages/sklearn/utils/deprecation.py:151: FutureWarning: 'force_all_finite' was renamed to 'ensure_all_finite' in 1.6 and will be removed in 1.8.\n",
      "  warnings.warn(\n"
     ]
    },
    {
     "name": "stdout",
     "output_type": "stream",
     "text": [
      " ARIMA(1,1,3)(0,0,0)[0]             : AIC=-21561.710, Time=0.23 sec\n"
     ]
    },
    {
     "name": "stderr",
     "output_type": "stream",
     "text": [
      "/Users/admin/anaconda3/lib/python3.12/site-packages/sklearn/utils/deprecation.py:151: FutureWarning: 'force_all_finite' was renamed to 'ensure_all_finite' in 1.6 and will be removed in 1.8.\n",
      "  warnings.warn(\n"
     ]
    },
    {
     "name": "stdout",
     "output_type": "stream",
     "text": [
      " ARIMA(0,1,1)(0,0,0)[0]             : AIC=-17914.459, Time=0.21 sec\n"
     ]
    },
    {
     "name": "stderr",
     "output_type": "stream",
     "text": [
      "/Users/admin/anaconda3/lib/python3.12/site-packages/sklearn/utils/deprecation.py:151: FutureWarning: 'force_all_finite' was renamed to 'ensure_all_finite' in 1.6 and will be removed in 1.8.\n",
      "  warnings.warn(\n"
     ]
    },
    {
     "name": "stdout",
     "output_type": "stream",
     "text": [
      " ARIMA(0,1,3)(0,0,0)[0]             : AIC=-19717.761, Time=0.71 sec\n"
     ]
    },
    {
     "name": "stderr",
     "output_type": "stream",
     "text": [
      "/Users/admin/anaconda3/lib/python3.12/site-packages/sklearn/utils/deprecation.py:151: FutureWarning: 'force_all_finite' was renamed to 'ensure_all_finite' in 1.6 and will be removed in 1.8.\n",
      "  warnings.warn(\n"
     ]
    },
    {
     "name": "stdout",
     "output_type": "stream",
     "text": [
      " ARIMA(2,1,1)(0,0,0)[0]             : AIC=-21557.669, Time=0.34 sec\n"
     ]
    },
    {
     "name": "stderr",
     "output_type": "stream",
     "text": [
      "/Users/admin/anaconda3/lib/python3.12/site-packages/sklearn/utils/deprecation.py:151: FutureWarning: 'force_all_finite' was renamed to 'ensure_all_finite' in 1.6 and will be removed in 1.8.\n",
      "  warnings.warn(\n"
     ]
    },
    {
     "name": "stdout",
     "output_type": "stream",
     "text": [
      " ARIMA(2,1,3)(0,0,0)[0]             : AIC=-21558.228, Time=0.25 sec\n",
      "\n",
      "Best model:  ARIMA(1,1,2)(0,0,0)[0]          \n",
      "Total fit time: 7.682 seconds\n",
      "Best ARIMA Order for AvgPrice_30: (1, 1, 2)\n",
      "\n",
      "\n",
      "Finding best ARIMA order for AvgPrice_365...\n",
      "Performing stepwise search to minimize aic\n"
     ]
    },
    {
     "name": "stderr",
     "output_type": "stream",
     "text": [
      "/Users/admin/anaconda3/lib/python3.12/site-packages/sklearn/utils/deprecation.py:151: FutureWarning: 'force_all_finite' was renamed to 'ensure_all_finite' in 1.6 and will be removed in 1.8.\n",
      "  warnings.warn(\n",
      "/Users/admin/anaconda3/lib/python3.12/site-packages/sklearn/utils/deprecation.py:151: FutureWarning: 'force_all_finite' was renamed to 'ensure_all_finite' in 1.6 and will be removed in 1.8.\n",
      "  warnings.warn(\n",
      "/Users/admin/anaconda3/lib/python3.12/site-packages/sklearn/utils/deprecation.py:151: FutureWarning: 'force_all_finite' was renamed to 'ensure_all_finite' in 1.6 and will be removed in 1.8.\n",
      "  warnings.warn(\n",
      "/Users/admin/anaconda3/lib/python3.12/site-packages/sklearn/utils/deprecation.py:151: FutureWarning: 'force_all_finite' was renamed to 'ensure_all_finite' in 1.6 and will be removed in 1.8.\n",
      "  warnings.warn(\n",
      "/Users/admin/anaconda3/lib/python3.12/site-packages/sklearn/utils/deprecation.py:151: FutureWarning: 'force_all_finite' was renamed to 'ensure_all_finite' in 1.6 and will be removed in 1.8.\n",
      "  warnings.warn(\n",
      "/Users/admin/anaconda3/lib/python3.12/site-packages/sklearn/utils/deprecation.py:151: FutureWarning: 'force_all_finite' was renamed to 'ensure_all_finite' in 1.6 and will be removed in 1.8.\n",
      "  warnings.warn(\n",
      "/Users/admin/anaconda3/lib/python3.12/site-packages/sklearn/utils/deprecation.py:151: FutureWarning: 'force_all_finite' was renamed to 'ensure_all_finite' in 1.6 and will be removed in 1.8.\n",
      "  warnings.warn(\n",
      "/Users/admin/anaconda3/lib/python3.12/site-packages/sklearn/utils/deprecation.py:151: FutureWarning: 'force_all_finite' was renamed to 'ensure_all_finite' in 1.6 and will be removed in 1.8.\n",
      "  warnings.warn(\n",
      "/Users/admin/anaconda3/lib/python3.12/site-packages/sklearn/utils/deprecation.py:151: FutureWarning: 'force_all_finite' was renamed to 'ensure_all_finite' in 1.6 and will be removed in 1.8.\n",
      "  warnings.warn(\n",
      "/Users/admin/anaconda3/lib/python3.12/site-packages/sklearn/utils/deprecation.py:151: FutureWarning: 'force_all_finite' was renamed to 'ensure_all_finite' in 1.6 and will be removed in 1.8.\n",
      "  warnings.warn(\n",
      "/Users/admin/anaconda3/lib/python3.12/site-packages/sklearn/utils/deprecation.py:151: FutureWarning: 'force_all_finite' was renamed to 'ensure_all_finite' in 1.6 and will be removed in 1.8.\n",
      "  warnings.warn(\n",
      "/Users/admin/anaconda3/lib/python3.12/site-packages/sklearn/utils/deprecation.py:151: FutureWarning: 'force_all_finite' was renamed to 'ensure_all_finite' in 1.6 and will be removed in 1.8.\n",
      "  warnings.warn(\n"
     ]
    },
    {
     "name": "stdout",
     "output_type": "stream",
     "text": [
      " ARIMA(2,2,2)(0,0,0)[0] intercept   : AIC=-26994.050, Time=0.94 sec\n",
      " ARIMA(0,2,0)(0,0,0)[0] intercept   : AIC=-26988.531, Time=0.14 sec\n"
     ]
    },
    {
     "name": "stderr",
     "output_type": "stream",
     "text": [
      "/Users/admin/anaconda3/lib/python3.12/site-packages/sklearn/utils/deprecation.py:151: FutureWarning: 'force_all_finite' was renamed to 'ensure_all_finite' in 1.6 and will be removed in 1.8.\n",
      "  warnings.warn(\n",
      "/Users/admin/anaconda3/lib/python3.12/site-packages/sklearn/utils/deprecation.py:151: FutureWarning: 'force_all_finite' was renamed to 'ensure_all_finite' in 1.6 and will be removed in 1.8.\n",
      "  warnings.warn(\n"
     ]
    },
    {
     "name": "stdout",
     "output_type": "stream",
     "text": [
      " ARIMA(1,2,0)(0,0,0)[0] intercept   : AIC=-26999.054, Time=0.19 sec\n"
     ]
    },
    {
     "name": "stderr",
     "output_type": "stream",
     "text": [
      "/Users/admin/anaconda3/lib/python3.12/site-packages/sklearn/utils/deprecation.py:151: FutureWarning: 'force_all_finite' was renamed to 'ensure_all_finite' in 1.6 and will be removed in 1.8.\n",
      "  warnings.warn(\n"
     ]
    },
    {
     "name": "stdout",
     "output_type": "stream",
     "text": [
      " ARIMA(0,2,1)(0,0,0)[0] intercept   : AIC=-26998.875, Time=0.49 sec\n",
      " ARIMA(0,2,0)(0,0,0)[0]             : AIC=-26992.056, Time=0.11 sec\n"
     ]
    },
    {
     "name": "stderr",
     "output_type": "stream",
     "text": [
      "/Users/admin/anaconda3/lib/python3.12/site-packages/sklearn/utils/deprecation.py:151: FutureWarning: 'force_all_finite' was renamed to 'ensure_all_finite' in 1.6 and will be removed in 1.8.\n",
      "  warnings.warn(\n",
      "/Users/admin/anaconda3/lib/python3.12/site-packages/sklearn/utils/deprecation.py:151: FutureWarning: 'force_all_finite' was renamed to 'ensure_all_finite' in 1.6 and will be removed in 1.8.\n",
      "  warnings.warn(\n"
     ]
    },
    {
     "name": "stdout",
     "output_type": "stream",
     "text": [
      " ARIMA(2,2,0)(0,0,0)[0] intercept   : AIC=-26997.058, Time=0.24 sec\n"
     ]
    },
    {
     "name": "stderr",
     "output_type": "stream",
     "text": [
      "/Users/admin/anaconda3/lib/python3.12/site-packages/sklearn/utils/deprecation.py:151: FutureWarning: 'force_all_finite' was renamed to 'ensure_all_finite' in 1.6 and will be removed in 1.8.\n",
      "  warnings.warn(\n"
     ]
    },
    {
     "name": "stdout",
     "output_type": "stream",
     "text": [
      " ARIMA(1,2,1)(0,0,0)[0] intercept   : AIC=-26997.057, Time=0.24 sec\n"
     ]
    },
    {
     "name": "stderr",
     "output_type": "stream",
     "text": [
      "/Users/admin/anaconda3/lib/python3.12/site-packages/sklearn/utils/deprecation.py:151: FutureWarning: 'force_all_finite' was renamed to 'ensure_all_finite' in 1.6 and will be removed in 1.8.\n",
      "  warnings.warn(\n",
      "/Users/admin/anaconda3/lib/python3.12/site-packages/statsmodels/tsa/statespace/sarimax.py:1901: RuntimeWarning: divide by zero encountered in reciprocal\n",
      "  return np.roots(self.polynomial_reduced_ar)**-1\n",
      "/Users/admin/anaconda3/lib/python3.12/site-packages/statsmodels/tsa/statespace/sarimax.py:1908: RuntimeWarning: divide by zero encountered in reciprocal\n",
      "  return np.roots(self.polynomial_reduced_ma)**-1\n",
      "/Users/admin/anaconda3/lib/python3.12/site-packages/sklearn/utils/deprecation.py:151: FutureWarning: 'force_all_finite' was renamed to 'ensure_all_finite' in 1.6 and will be removed in 1.8.\n",
      "  warnings.warn(\n"
     ]
    },
    {
     "name": "stdout",
     "output_type": "stream",
     "text": [
      " ARIMA(2,2,1)(0,0,0)[0] intercept   : AIC=-26982.472, Time=0.30 sec\n",
      " ARIMA(1,2,0)(0,0,0)[0]             : AIC=-27001.045, Time=0.28 sec\n"
     ]
    },
    {
     "name": "stderr",
     "output_type": "stream",
     "text": [
      "/Users/admin/anaconda3/lib/python3.12/site-packages/sklearn/utils/deprecation.py:151: FutureWarning: 'force_all_finite' was renamed to 'ensure_all_finite' in 1.6 and will be removed in 1.8.\n",
      "  warnings.warn(\n"
     ]
    },
    {
     "name": "stdout",
     "output_type": "stream",
     "text": [
      " ARIMA(2,2,0)(0,0,0)[0]             : AIC=-26999.053, Time=0.23 sec\n"
     ]
    },
    {
     "name": "stderr",
     "output_type": "stream",
     "text": [
      "/Users/admin/anaconda3/lib/python3.12/site-packages/sklearn/utils/deprecation.py:151: FutureWarning: 'force_all_finite' was renamed to 'ensure_all_finite' in 1.6 and will be removed in 1.8.\n",
      "  warnings.warn(\n"
     ]
    },
    {
     "name": "stdout",
     "output_type": "stream",
     "text": [
      " ARIMA(1,2,1)(0,0,0)[0]             : AIC=-26999.038, Time=0.38 sec\n",
      " ARIMA(0,2,1)(0,0,0)[0]             : AIC=-27000.852, Time=0.17 sec\n"
     ]
    },
    {
     "name": "stderr",
     "output_type": "stream",
     "text": [
      "/Users/admin/anaconda3/lib/python3.12/site-packages/sklearn/utils/deprecation.py:151: FutureWarning: 'force_all_finite' was renamed to 'ensure_all_finite' in 1.6 and will be removed in 1.8.\n",
      "  warnings.warn(\n",
      "/Users/admin/anaconda3/lib/python3.12/site-packages/sklearn/utils/deprecation.py:151: FutureWarning: 'force_all_finite' was renamed to 'ensure_all_finite' in 1.6 and will be removed in 1.8.\n",
      "  warnings.warn(\n"
     ]
    },
    {
     "name": "stdout",
     "output_type": "stream",
     "text": [
      " ARIMA(2,2,1)(0,0,0)[0]             : AIC=-26986.047, Time=0.17 sec\n",
      "\n",
      "Best model:  ARIMA(1,2,0)(0,0,0)[0]          \n",
      "Total fit time: 3.890 seconds\n",
      "Best ARIMA Order for AvgPrice_365: (1, 2, 0)\n",
      "\n"
     ]
    },
    {
     "name": "stderr",
     "output_type": "stream",
     "text": [
      "/Users/admin/anaconda3/lib/python3.12/site-packages/statsmodels/tsa/statespace/sarimax.py:1901: RuntimeWarning: divide by zero encountered in reciprocal\n",
      "  return np.roots(self.polynomial_reduced_ar)**-1\n",
      "/Users/admin/anaconda3/lib/python3.12/site-packages/statsmodels/tsa/statespace/sarimax.py:1908: RuntimeWarning: divide by zero encountered in reciprocal\n",
      "  return np.roots(self.polynomial_reduced_ma)**-1\n"
     ]
    }
   ],
   "source": [
    "\n",
    "\n",
    "# Auto-ARIMA to determine best parameters\n",
    "best_orders = {}\n",
    "\n",
    "for col in columns_to_test:\n",
    "    print(f\"\\nFinding best ARIMA order for {col}...\")\n",
    "    auto_model = auto_arima(df1_loaded[col].dropna(), seasonal=False, stepwise=True, trace=True)\n",
    "    best_orders[col] = auto_model.order\n",
    "    print(f\"Best ARIMA Order for {col}: {auto_model.order}\\n\")\n"
   ]
  },
  {
   "cell_type": "code",
   "execution_count": 28,
   "id": "76590f12-9daa-4465-97c7-bf3e7bc3f33a",
   "metadata": {},
   "outputs": [
    {
     "data": {
      "text/plain": [
       "{'AvgPrice_5': (5, 1, 4), 'AvgPrice_30': (1, 1, 2), 'AvgPrice_365': (1, 2, 0)}"
      ]
     },
     "execution_count": 28,
     "metadata": {},
     "output_type": "execute_result"
    }
   ],
   "source": [
    "best_orders "
   ]
  },
  {
   "cell_type": "code",
   "execution_count": 30,
   "id": "b21e7594-029f-40b4-acc0-d8ada5cf0b35",
   "metadata": {},
   "outputs": [
    {
     "name": "stdout",
     "output_type": "stream",
     "text": [
      "Training ARIMA(5, 1, 4) for AvgPrice_5...\n"
     ]
    },
    {
     "name": "stderr",
     "output_type": "stream",
     "text": [
      "/Users/admin/anaconda3/lib/python3.12/site-packages/statsmodels/base/model.py:607: ConvergenceWarning: Maximum Likelihood optimization failed to converge. Check mle_retvals\n",
      "  warnings.warn(\"Maximum Likelihood optimization failed to \"\n"
     ]
    },
    {
     "name": "stdout",
     "output_type": "stream",
     "text": [
      "                               SARIMAX Results                                \n",
      "==============================================================================\n",
      "Dep. Variable:             AvgPrice_5   No. Observations:                 2192\n",
      "Model:                 ARIMA(5, 1, 4)   Log Likelihood                7628.303\n",
      "Date:                Sun, 23 Mar 2025   AIC                         -15236.605\n",
      "Time:                        12:11:28   BIC                         -15179.684\n",
      "Sample:                             0   HQIC                        -15215.801\n",
      "                               - 2192                                         \n",
      "Covariance Type:                  opg                                         \n",
      "==============================================================================\n",
      "                 coef    std err          z      P>|z|      [0.025      0.975]\n",
      "------------------------------------------------------------------------------\n",
      "ar.L1         -0.0423      0.011     -3.830      0.000      -0.064      -0.021\n",
      "ar.L2          0.0538      0.012      4.516      0.000       0.030       0.077\n",
      "ar.L3          0.0126      0.011      1.171      0.242      -0.008       0.034\n",
      "ar.L4          0.0390      0.011      3.548      0.000       0.017       0.061\n",
      "ar.L5         -0.1296      0.011    -11.814      0.000      -0.151      -0.108\n",
      "ma.L1          0.9678      0.008    121.385      0.000       0.952       0.983\n",
      "ma.L2          0.9091      0.013     69.051      0.000       0.883       0.935\n",
      "ma.L3          0.8680      0.011     75.682      0.000       0.845       0.890\n",
      "ma.L4          0.8619      0.008    105.435      0.000       0.846       0.878\n",
      "sigma2      5.392e-05   4.06e-07    132.777      0.000    5.31e-05    5.47e-05\n",
      "===================================================================================\n",
      "Ljung-Box (L1) (Q):                   0.01   Jarque-Bera (JB):            121930.77\n",
      "Prob(Q):                              0.92   Prob(JB):                         0.00\n",
      "Heteroskedasticity (H):               1.50   Skew:                             0.65\n",
      "Prob(H) (two-sided):                  0.00   Kurtosis:                        39.52\n",
      "===================================================================================\n",
      "\n",
      "Warnings:\n",
      "[1] Covariance matrix calculated using the outer product of gradients (complex-step).\n",
      "Training ARIMA(1, 1, 2) for AvgPrice_30...\n",
      "                               SARIMAX Results                                \n",
      "==============================================================================\n",
      "Dep. Variable:            AvgPrice_30   No. Observations:                 2192\n",
      "Model:                 ARIMA(1, 1, 2)   Log Likelihood               10777.899\n",
      "Date:                Sun, 23 Mar 2025   AIC                         -21547.797\n",
      "Time:                        12:11:28   BIC                         -21525.029\n",
      "Sample:                             0   HQIC                        -21539.476\n",
      "                               - 2192                                         \n",
      "Covariance Type:                  opg                                         \n",
      "==============================================================================\n",
      "                 coef    std err          z      P>|z|      [0.025      0.975]\n",
      "------------------------------------------------------------------------------\n",
      "ar.L1          0.9622      0.003    355.797      0.000       0.957       0.967\n",
      "ma.L1         -0.0515      0.011     -4.508      0.000      -0.074      -0.029\n",
      "ma.L2          0.0614      0.010      6.412      0.000       0.043       0.080\n",
      "sigma2      2.714e-06   2.43e-08    111.798      0.000    2.67e-06    2.76e-06\n",
      "===================================================================================\n",
      "Ljung-Box (L1) (Q):                   0.00   Jarque-Bera (JB):             45300.59\n",
      "Prob(Q):                              0.97   Prob(JB):                         0.00\n",
      "Heteroskedasticity (H):               1.65   Skew:                             0.18\n",
      "Prob(H) (two-sided):                  0.00   Kurtosis:                        25.27\n",
      "===================================================================================\n",
      "\n",
      "Warnings:\n",
      "[1] Covariance matrix calculated using the outer product of gradients (complex-step).\n",
      "Training ARIMA(1, 2, 0) for AvgPrice_365...\n",
      "                               SARIMAX Results                                \n",
      "==============================================================================\n",
      "Dep. Variable:           AvgPrice_365   No. Observations:                 2192\n",
      "Model:                 ARIMA(1, 2, 0)   Log Likelihood               13483.904\n",
      "Date:                Sun, 23 Mar 2025   AIC                         -26963.807\n",
      "Time:                        12:11:28   BIC                         -26952.424\n",
      "Sample:                             0   HQIC                        -26959.647\n",
      "                               - 2192                                         \n",
      "Covariance Type:                  opg                                         \n",
      "==============================================================================\n",
      "                 coef    std err          z      P>|z|      [0.025      0.975]\n",
      "------------------------------------------------------------------------------\n",
      "ar.L1         -0.0827   1.65e-18  -5.02e+16      0.000      -0.083      -0.083\n",
      "sigma2      2.212e-08   2.28e-10     97.233      0.000    2.17e-08    2.26e-08\n",
      "===================================================================================\n",
      "Ljung-Box (L1) (Q):                   0.00   Jarque-Bera (JB):             51003.14\n",
      "Prob(Q):                              0.99   Prob(JB):                         0.00\n",
      "Heteroskedasticity (H):               5.14   Skew:                             0.05\n",
      "Prob(H) (two-sided):                  0.00   Kurtosis:                        26.64\n",
      "===================================================================================\n",
      "\n",
      "Warnings:\n",
      "[1] Covariance matrix calculated using the outer product of gradients (complex-step).\n",
      "[2] Covariance matrix is singular or near-singular, with condition number 5.94e+23. Standard errors may be unstable.\n"
     ]
    }
   ],
   "source": [
    "from statsmodels.tsa.arima.model import ARIMA\n",
    "\n",
    "models = {}\n",
    "fitted_models = {}\n",
    "\n",
    "for col in columns_to_test:\n",
    "    p, d, q = best_orders[col]  # Use the best order found\n",
    "    print(f\"Training ARIMA({p}, {d}, {q}) for {col}...\")\n",
    "\n",
    "    model = ARIMA(df1_loaded[col], order=(p, d, q))\n",
    "    fitted_model = model.fit()\n",
    "\n",
    "    models[col] = model\n",
    "    fitted_models[col] = fitted_model\n",
    "\n",
    "    print(fitted_model.summary())\n"
   ]
  },
  {
   "cell_type": "code",
   "execution_count": 34,
   "id": "c8159d71-7474-40fb-a0ed-9cf9f84c7d18",
   "metadata": {},
   "outputs": [
    {
     "data": {
      "image/png": "[encoded data removed]",
      "text/plain": [
       "<Figure size 1200x600 with 1 Axes>"
      ]
     },
     "metadata": {},
     "output_type": "display_data"
    }
   ],
   "source": [
    "import pandas as pd\n",
    "forecast_steps = 100 # Forecast for next 10 days\n",
    "\n",
    "plt.figure(figsize=(12,6))\n",
    "\n",
    "for col in columns_to_test:\n",
    "    forecast = fitted_models[col].forecast(steps=forecast_steps)\n",
    "\n",
    "    # Create date range for forecast\n",
    "    forecast_dates = pd.date_range(start=df1_loaded.index[-1], periods=forecast_steps+1, freq='D')[1:]\n",
    "\n",
    "    # Plot actual vs forecast\n",
    "    plt.plot(df1_loaded[col], label=f\"Actual {col}\", linestyle='-')\n",
    "    plt.plot(forecast_dates, forecast, label=f\"Forecast {col}\", linestyle='--')\n",
    "\n",
    "plt.title(\"ARIMA Forecast for XRP Prices\")\n",
    "plt.xlabel(\"Date\")\n",
    "plt.ylabel(\"Price\")\n",
    "plt.legend()\n",
    "plt.show()\n"
   ]
  },
  {
   "cell_type": "code",
   "execution_count": 48,
   "id": "bb06bbe6-5b8d-4afa-ba33-07fa902461e1",
   "metadata": {},
   "outputs": [
    {
     "name": "stdout",
     "output_type": "stream",
     "text": [
      "RMSE for AvgPrice_5: 0.1920\n"
     ]
    },
    {
     "name": "stderr",
     "output_type": "stream",
     "text": [
      "/Users/admin/anaconda3/lib/python3.12/site-packages/statsmodels/base/model.py:607: ConvergenceWarning: Maximum Likelihood optimization failed to converge. Check mle_retvals\n",
      "  warnings.warn(\"Maximum Likelihood optimization failed to \"\n"
     ]
    },
    {
     "name": "stdout",
     "output_type": "stream",
     "text": [
      "RMSE for AvgPrice_30: 0.1867\n",
      "RMSE for AvgPrice_365: 0.3300\n"
     ]
    },
    {
     "name": "stderr",
     "output_type": "stream",
     "text": [
      "/Users/admin/anaconda3/lib/python3.12/site-packages/statsmodels/base/model.py:607: ConvergenceWarning: Maximum Likelihood optimization failed to converge. Check mle_retvals\n",
      "  warnings.warn(\"Maximum Likelihood optimization failed to \"\n"
     ]
    }
   ],
   "source": [
    "from sklearn.metrics import mean_squared_error\n",
    "import numpy as np\n",
    "\n",
    "for col in columns_to_test:\n",
    "    train_size = int(len(df1_loaded[col]) * 0.8)  # 80% train, 20% test\n",
    "    train, test = df1_loaded[col][:train_size], df1_loaded[col][train_size:]\n",
    "\n",
    "    # Fit ARIMA again on training data\n",
    "    p, d, q = best_orders[col]\n",
    "    model = ARIMA(train, order=(p, d, q))\n",
    "    model_fit = model.fit()\n",
    "\n",
    "    # Predict on test set\n",
    "    predictions = model_fit.forecast(steps=len(test))\n",
    "\n",
    "    # Calculate RMSE\n",
    "    rmse = np.sqrt(mean_squared_error(test, predictions))\n",
    "    print(f\"RMSE for {col}: {rmse:.4f}\")\n"
   ]
  },
  {
   "cell_type": "code",
   "execution_count": 50,
   "id": "e6422646-adde-43f6-ae21-9dfecdb2664a",
   "metadata": {},
   "outputs": [],
   "source": [
    "import pickle\n",
    "\n",
    "# Assuming 'model' is your trained model\n",
    "with open(\"ARIIMA.pkl\", \"wb\") as f:\n",
    "    pickle.dump(model, f)\n"
   ]
  },
  {
   "cell_type": "code",
   "execution_count": null,
   "id": "870e8479-42a0-4397-8e3b-ab1d37884fcb",
   "metadata": {},
   "outputs": [],
   "source": [
    "#import pickle\n",
    "\n",
    "# Assuming 'model' is your trained model\n",
    "#with open(\"model.pkl\", \"wb\") as f:\n",
    "    #pickle.dump(model, f)\n"
   ]
  }
 ],
 "metadata": {
  "kernelspec": {
   "display_name": "Python 3 (ipykernel)",
   "language": "python",
   "name": "python3"
  },
  "language_info": {
   "codemirror_mode": {
    "name": "ipython",
    "version": 3
   },
   "file_extension": ".py",
   "mimetype": "text/x-python",
   "name": "python",
   "nbconvert_exporter": "python",
   "pygments_lexer": "ipython3",
   "version": "3.12.7"
  }
 },
 "nbformat": 4,
 "nbformat_minor": 5
}
